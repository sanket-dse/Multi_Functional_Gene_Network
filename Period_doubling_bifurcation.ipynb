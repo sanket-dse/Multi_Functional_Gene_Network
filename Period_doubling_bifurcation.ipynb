{
  "nbformat": 4,
  "nbformat_minor": 0,
  "metadata": {
    "colab": {
      "name": "Period-doubling_bifurcation.ipynb",
      "provenance": [],
      "collapsed_sections": [
        "T70uUa3Qc1YH",
        "dmMnz2j5umYw",
        "EqA47lTweZqs",
        "n0zmeH_jeZqu",
        "LjEYZdiseZqv",
        "NIUgmwSNvM5a",
        "u_vCpFUxgCzg",
        "XmC1cQKxgCzh",
        "AXY2LnUVgCzi",
        "Tw8USRlTvqse",
        "YTaDNA4AjWW3",
        "JEfeSoFUjWW5",
        "Q4De0W0HjWW7",
        "r4S6Njc1xa6R",
        "LFEXgTLJllWA",
        "eimPg3etllWB",
        "ApZleO0KllWD",
        "iCvTsPHSxqnw"
      ]
    },
    "kernelspec": {
      "name": "python3",
      "display_name": "Python 3"
    },
    "language_info": {
      "name": "python"
    }
  },
  "cells": [
    {
      "cell_type": "code",
      "metadata": {
        "id": "Wm-I_ABXX2wf"
      },
      "source": [
        "import matplotlib.pyplot as plt\n",
        "import numpy as np\n",
        "import scipy as sp\n",
        "import scipy.integrate\n",
        "import math"
      ],
      "execution_count": null,
      "outputs": []
    },
    {
      "cell_type": "markdown",
      "metadata": {
        "id": "VGLkNK4Ny5I_"
      },
      "source": [
        "# Period doubling bifurcation\n",
        "Input : -A*cos(Beta * t) + A * c<br>\n",
        "\n",
        "where A : Amplitude = 50 nM<br>\n",
        " ----------     Beta : 2*pi/p => p is period of input<br>\n",
        " ----------     c : 10^-9<br>\n"
      ]
    },
    {
      "cell_type": "markdown",
      "metadata": {
        "id": "fVsAvR3yE9GU"
      },
      "source": [
        "## Defining equations\n",
        "1. p=2.8*10^4 s"
      ]
    },
    {
      "cell_type": "code",
      "metadata": {
        "id": "4ukUNECmcpsK"
      },
      "source": [
        "\n",
        "def I(t):\n",
        "  p = 2.8E+4 # period\n",
        "  c = 1E-9\n",
        "  a = 50\n",
        "  f = -a*math.cos(2*(math.pi)*t/p) + a + c\n",
        "  return f\n",
        "\n",
        "def hposr(x): # THis is for all repressors Positive hill function\n",
        "  N=1.3\n",
        "  ka=0.6 #nM \n",
        "  hill = x**N/(ka**N+x**N)\n",
        "  return hill\n",
        "'''\n",
        "a= hposr(10) # Just testing hposr function\n",
        "print(a)\n",
        "'''\n",
        "def hnegr(x): # Thus is for repressors Negative hill function\n",
        "  N=1.3\n",
        "  ka=0.6 #nM \n",
        "  hill = 1/(1+(x**N/ka**N))\n",
        "  return hill\n",
        "\n",
        "def hposa(x): #This is for input signal Positive Hill function\n",
        "  N=1.3\n",
        "  ka=20.0 #nM \n",
        "  hill2 = x**N/(ka**N+x**N)\n",
        "  #print(hill2)\n",
        "  return hill2\n",
        "\n",
        "#b=hposa(10.1) # Just testing hposa function\n",
        "#print(b)\n",
        "\n",
        "def func(x,t):\n",
        "  r1=x[0]\n",
        "  r2=x[1]\n",
        "  r3=x[2]\n",
        "  r4=x[3]\n",
        "  #parameter initialization\n",
        "  ktl=6E-4\n",
        "  delm=2.5E-3\n",
        "  delr=4E-4\n",
        "  beta=0.4 #nM/s\n",
        "  Ptc=0.4 #nM/s\n",
        "  alpha=ktl*beta/delm #for a1,b1,c1,d1\n",
        "  gamma=ktl*Ptc/delm # For a2,b2,c2,d2\n",
        "\n",
        "  # defining equations\n",
        "  dr1dt= alpha*hposa(I(t))*hnegr(r2) + gamma*hnegr(r3) - delr*r1\n",
        "  dr2dt= alpha*hposa(I(t))*hnegr(r4) + gamma*hnegr(r3)*hnegr(r4) - delr*r2\n",
        "  dr3dt= alpha*hposa(I(t))*hnegr(r4) + gamma*hnegr(r1) - delr*r3\n",
        "  dr4dt= alpha*hposa(I(t))*hnegr(r2) + gamma*hnegr(r1)*hnegr(r2) - delr*r4\n",
        "\n",
        "  return [dr1dt,dr2dt,dr3dt,dr4dt]\n",
        "\n",
        "#print(func([50,50,0,0],0.001)) # Checking func\n"
      ],
      "execution_count": null,
      "outputs": []
    },
    {
      "cell_type": "markdown",
      "metadata": {
        "id": "Tpesp8kKFAu1"
      },
      "source": [
        "## Solving and plotting "
      ]
    },
    {
      "cell_type": "code",
      "metadata": {
        "id": "glE6SAm1FEKz"
      },
      "source": [
        "from scipy.integrate import odeint\n",
        "import numpy as np\n",
        "\n",
        "x0=[50.0,50.0,0.0,0.0]\n",
        "t1=np.linspace(0,700000,7000000)\n",
        "x = odeint(func,x0,t1)\n",
        "\n",
        "r1=x[:,0]\n",
        "r2=x[:,1]\n",
        "r3=x[:,2]\n",
        "r4=x[:,3]\n",
        "\n",
        "\n"
      ],
      "execution_count": null,
      "outputs": []
    },
    {
      "cell_type": "code",
      "metadata": {
        "colab": {
          "base_uri": "https://localhost:8080/",
          "height": 279
        },
        "id": "5WHd-i2nZx4v",
        "outputId": "9a36242e-78a8-45dd-cfd8-c59d1ebb9b4e"
      },
      "source": [
        "\n",
        "plt.plot(t1,r1)\n",
        "plt.plot(t1,r2)\n",
        "plt.plot(t1,r3)\n",
        "plt.plot(t1,r4)\n",
        "plt.xlabel('Time(s)')\n",
        "plt.ylabel('Concentration(nM)')\n",
        "plt.legend(['R1','R2','R3','R4'])\n",
        "plt.show()"
      ],
      "execution_count": null,
      "outputs": [
        {
          "output_type": "display_data",
          "data": {
            "image/png": "[encoded data removed]",
            "text/plain": [
              "<Figure size 432x288 with 1 Axes>"
            ]
          },
          "metadata": {
            "needs_background": "light"
          }
        }
      ]
    },
    {
      "cell_type": "markdown",
      "metadata": {
        "id": "iVlJybVvboS1"
      },
      "source": [
        "## Finding period"
      ]
    },
    {
      "cell_type": "code",
      "metadata": {
        "colab": {
          "base_uri": "https://localhost:8080/"
        },
        "id": "UD0VhcztPAWk",
        "outputId": "eed54831-a0d9-4046-bee5-1be6473a0f00"
      },
      "source": [
        "i1=np.where(r2==min(r2))\n",
        "i2=np.where(r1==min(r1))\n",
        "print(i1)\n",
        "print(i2)\n",
        "tmax=t1[i1]\n",
        "tmin=t1[i2]\n",
        "print(tmax)\n",
        "print(tmin)\n",
        "period_1=(tmax-tmin)/7\n",
        "print(period_1)"
      ],
      "execution_count": null,
      "outputs": [
        {
          "output_type": "stream",
          "name": "stdout",
          "text": [
            "(array([2250534]),)\n",
            "(array([288680]),)\n",
            "[225053.43215049]\n",
            "[28868.004124]\n",
            "[28026.48971807]\n"
          ]
        }
      ]
    },
    {
      "cell_type": "markdown",
      "metadata": {
        "id": "W7Pr7DhstWAo"
      },
      "source": [
        "## Finding L2 norm"
      ]
    },
    {
      "cell_type": "code",
      "metadata": {
        "colab": {
          "base_uri": "https://localhost:8080/"
        },
        "id": "rTLBd4cRT9Wb",
        "outputId": "d39f179d-46a9-4fca-d3f4-8c7925e9ba79"
      },
      "source": [
        "# modified r3 and r4\n",
        "r3_mod=[]\n",
        "r4_mod=[]\n",
        "for i in range(2000000,3000000):\n",
        "  r3_mod.append(r3[i])\n",
        "  r4_mod.append(r4[i])\n",
        "\n",
        "l2_norm1= math.sqrt((2*max(r4_mod)**2)+(2*max(r3_mod)**2))\n",
        "print(l2_norm1)"
      ],
      "execution_count": null,
      "outputs": [
        {
          "output_type": "stream",
          "name": "stdout",
          "text": [
            "21.801146404181186\n"
          ]
        }
      ]
    },
    {
      "cell_type": "markdown",
      "metadata": {
        "id": "Q2fcIFcXT9mu"
      },
      "source": [
        "## Defining equations\n",
        "2. p=2.4*10^4 s"
      ]
    },
    {
      "cell_type": "code",
      "metadata": {
        "id": "f5kvMbIrT9mu"
      },
      "source": [
        "\n",
        "def I1(t):\n",
        "  p = 2.4E+4 # period\n",
        "  c = 1E-9\n",
        "  a = 50\n",
        "  f = -a*math.cos(2*(math.pi)*t/p) + a + c\n",
        "  return f\n",
        "\n",
        "def func1(x,t):\n",
        "  r1=x[0]\n",
        "  r2=x[1]\n",
        "  r3=x[2]\n",
        "  r4=x[3]\n",
        "  #parameter initialization\n",
        "  ktl=6E-4\n",
        "  delm=2.5E-3\n",
        "  delr=4E-4\n",
        "  beta=0.4 #nM/s\n",
        "  Ptc=0.4 #nM/s\n",
        "  alpha=ktl*beta/delm #for a1,b1,c1,d1\n",
        "  gamma=ktl*Ptc/delm # For a2,b2,c2,d2\n",
        "\n",
        "  # defining equations\n",
        "  dr1dt= alpha*hposa(I1(t))*hnegr(r2) + gamma*hnegr(r3) - delr*r1\n",
        "  dr2dt= alpha*hposa(I1(t))*hnegr(r4) + gamma*hnegr(r3)*hnegr(r4) - delr*r2\n",
        "  dr3dt= alpha*hposa(I1(t))*hnegr(r4) + gamma*hnegr(r1) - delr*r3\n",
        "  dr4dt= alpha*hposa(I1(t))*hnegr(r2) + gamma*hnegr(r1)*hnegr(r2) - delr*r4\n",
        "\n",
        "  return [dr1dt,dr2dt,dr3dt,dr4dt]\n",
        "\n",
        "#print(func([50,50,0,0],0.001)) # Checking func\n"
      ],
      "execution_count": null,
      "outputs": []
    },
    {
      "cell_type": "markdown",
      "metadata": {
        "id": "WSzx_ig8T9mv"
      },
      "source": [
        "## Solving and plotting "
      ]
    },
    {
      "cell_type": "code",
      "metadata": {
        "id": "YwJAQUV3T9mw"
      },
      "source": [
        "from scipy.integrate import odeint\n",
        "import numpy as np\n",
        "\n",
        "x0=[50.0,50.0,0.0,0.0]\n",
        "t1=np.linspace(0,700000,7000000)\n",
        "x = odeint(func1,x0,t1)\n",
        "\n",
        "r1=x[:,0]\n",
        "r2=x[:,1]\n",
        "r3=x[:,2]\n",
        "r4=x[:,3]\n",
        "\n",
        "\n"
      ],
      "execution_count": null,
      "outputs": []
    },
    {
      "cell_type": "code",
      "metadata": {
        "colab": {
          "base_uri": "https://localhost:8080/",
          "height": 279
        },
        "id": "Pdans_IKT9mw",
        "outputId": "2871b182-d4de-4269-c8d4-c471a5a48665"
      },
      "source": [
        "\n",
        "plt.plot(t1,r1)\n",
        "plt.plot(t1,r2)\n",
        "plt.plot(t1,r3)\n",
        "plt.plot(t1,r4)\n",
        "plt.xlabel('Time(s)')\n",
        "plt.ylabel('Concentration(nM)')\n",
        "plt.legend(['R1','R2','R3','R4'])\n",
        "plt.show()"
      ],
      "execution_count": null,
      "outputs": [
        {
          "output_type": "display_data",
          "data": {
            "image/png": "[encoded data removed]",
            "text/plain": [
              "<Figure size 432x288 with 1 Axes>"
            ]
          },
          "metadata": {
            "needs_background": "light"
          }
        }
      ]
    },
    {
      "cell_type": "markdown",
      "metadata": {
        "id": "T70uUa3Qc1YH"
      },
      "source": [
        "## Finding period"
      ]
    },
    {
      "cell_type": "code",
      "metadata": {
        "colab": {
          "base_uri": "https://localhost:8080/"
        },
        "id": "d-H3DROQc1YI",
        "outputId": "5a24b2fe-0404-4b33-a87b-b7f093d41580"
      },
      "source": [
        "i1=np.where(r2==min(r2))\n",
        "i2=np.where(r1==min(r1))\n",
        "print(i1)\n",
        "print(i2)\n",
        "tmax=t1[i1]\n",
        "tmin=t1[i2]\n",
        "period_2=(tmax-tmin)/28\n",
        "print(period_2)"
      ],
      "execution_count": null,
      "outputs": [
        {
          "output_type": "stream",
          "name": "stdout",
          "text": [
            "(array([6984565]),)\n",
            "(array([249117]),)\n",
            "[24055.17486502]\n"
          ]
        }
      ]
    },
    {
      "cell_type": "markdown",
      "metadata": {
        "id": "dmMnz2j5umYw"
      },
      "source": [
        "## Finding L2 norm"
      ]
    },
    {
      "cell_type": "code",
      "metadata": {
        "colab": {
          "base_uri": "https://localhost:8080/"
        },
        "id": "FHriYBV_umYx",
        "outputId": "1141e2b8-d371-4e3f-89e3-a8de30151cd5"
      },
      "source": [
        "# modified r3,r2 and r4\n",
        "r3_mod=[]\n",
        "r4_mod=[]\n",
        "r2_mod=[]\n",
        "for i in range(2000000,3000000):\n",
        "  r3_mod.append(r3[i])\n",
        "  r4_mod.append(r4[i])\n",
        "  r2_mod.append(r2[i])\n",
        "\n",
        "l2_norm2= math.sqrt(2*max(r4_mod)**2+(max(r3_mod)**2)+max(r2_mod)**2)\n",
        "print(l2_norm2)"
      ],
      "execution_count": null,
      "outputs": [
        {
          "output_type": "stream",
          "name": "stdout",
          "text": [
            "140.45294762725186\n"
          ]
        }
      ]
    },
    {
      "cell_type": "markdown",
      "metadata": {
        "id": "EqA47lTweZqs"
      },
      "source": [
        "## Defining equations\n",
        "3. p=3*10^4 s"
      ]
    },
    {
      "cell_type": "code",
      "metadata": {
        "id": "P-Mzg6bqeZqt"
      },
      "source": [
        "\n",
        "def I2(t):\n",
        "  p = 3E+4 # period\n",
        "  c = 1E-9\n",
        "  a = 50\n",
        "  f = -a*math.cos(2*(math.pi)*t/p) + a + c\n",
        "  return f\n",
        "\n",
        "def func2(x,t):\n",
        "  r1=x[0]\n",
        "  r2=x[1]\n",
        "  r3=x[2]\n",
        "  r4=x[3]\n",
        "  #parameter initialization\n",
        "  ktl=6E-4\n",
        "  delm=2.5E-3\n",
        "  delr=4E-4\n",
        "  beta=0.4 #nM/s\n",
        "  Ptc=0.4 #nM/s\n",
        "  alpha=ktl*beta/delm #for a1,b1,c1,d1\n",
        "  gamma=ktl*Ptc/delm # For a2,b2,c2,d2\n",
        "\n",
        "  # defining equations\n",
        "  dr1dt= alpha*hposa(I2(t))*hnegr(r2) + gamma*hnegr(r3) - delr*r1\n",
        "  dr2dt= alpha*hposa(I2(t))*hnegr(r4) + gamma*hnegr(r3)*hnegr(r4) - delr*r2\n",
        "  dr3dt= alpha*hposa(I2(t))*hnegr(r4) + gamma*hnegr(r1) - delr*r3\n",
        "  dr4dt= alpha*hposa(I2(t))*hnegr(r2) + gamma*hnegr(r1)*hnegr(r2) - delr*r4\n",
        "\n",
        "  return [dr1dt,dr2dt,dr3dt,dr4dt]\n",
        "\n",
        "#print(func([50,50,0,0],0.001)) # Checking func\n"
      ],
      "execution_count": null,
      "outputs": []
    },
    {
      "cell_type": "markdown",
      "metadata": {
        "id": "n0zmeH_jeZqu"
      },
      "source": [
        "## Solving and plotting "
      ]
    },
    {
      "cell_type": "code",
      "metadata": {
        "id": "4RiCjDtneZqu"
      },
      "source": [
        "from scipy.integrate import odeint\n",
        "import numpy as np\n",
        "\n",
        "x0=[50.0,50.0,0.0,0.0]\n",
        "t1=np.linspace(0,700000,7000000)\n",
        "x = odeint(func2,x0,t1)\n",
        "\n",
        "r1=x[:,0]\n",
        "r2=x[:,1]\n",
        "r3=x[:,2]\n",
        "r4=x[:,3]\n",
        "\n",
        "\n"
      ],
      "execution_count": null,
      "outputs": []
    },
    {
      "cell_type": "code",
      "metadata": {
        "colab": {
          "base_uri": "https://localhost:8080/",
          "height": 279
        },
        "id": "e4lSdJJ9eZqv",
        "outputId": "77dc96b8-f372-4c0f-c59d-61ce9ff5d0ba"
      },
      "source": [
        "\n",
        "plt.plot(t1,r1)\n",
        "plt.plot(t1,r2)\n",
        "plt.plot(t1,r3)\n",
        "plt.plot(t1,r4)\n",
        "plt.xlabel('Time(s)')\n",
        "plt.ylabel('Concentration(nM)')\n",
        "plt.legend(['R1','R2','R3','R4'])\n",
        "plt.show()"
      ],
      "execution_count": null,
      "outputs": [
        {
          "output_type": "display_data",
          "data": {
            "image/png": "[encoded data removed]",
            "text/plain": [
              "<Figure size 432x288 with 1 Axes>"
            ]
          },
          "metadata": {
            "needs_background": "light"
          }
        }
      ]
    },
    {
      "cell_type": "markdown",
      "metadata": {
        "id": "LjEYZdiseZqv"
      },
      "source": [
        "## Finding period"
      ]
    },
    {
      "cell_type": "code",
      "metadata": {
        "colab": {
          "base_uri": "https://localhost:8080/"
        },
        "id": "SvCXnYWAeZqw",
        "outputId": "e3b06ade-00e1-4455-d3ed-7d9c6519ff38"
      },
      "source": [
        "i1=np.where(r2==min(r2))\n",
        "i2=np.where(r1==min(r1))\n",
        "print(i1)\n",
        "print(i2)\n",
        "tmax=t1[i1]\n",
        "tmin=t1[i2]\n",
        "print(tmax)\n",
        "print(tmin)\n",
        "period_3=(tmax-tmin)/4\n",
        "print(period_3)"
      ],
      "execution_count": null,
      "outputs": [
        {
          "output_type": "stream",
          "name": "stdout",
          "text": [
            "(array([1509117]),)\n",
            "(array([308656]),)\n",
            "[150911.72155882]\n",
            "[30865.60440937]\n",
            "[30011.52928736]\n"
          ]
        }
      ]
    },
    {
      "cell_type": "markdown",
      "metadata": {
        "id": "NIUgmwSNvM5a"
      },
      "source": [
        "## Finding L2 norm"
      ]
    },
    {
      "cell_type": "code",
      "metadata": {
        "colab": {
          "base_uri": "https://localhost:8080/"
        },
        "id": "6urxwp2svM5b",
        "outputId": "7cb7fc49-12fd-478c-9098-c6f77e0686c1"
      },
      "source": [
        "# modified r3 and r4\n",
        "r3_mod=[]\n",
        "r4_mod=[]\n",
        "for i in range(2000000,3000000):\n",
        "  r3_mod.append(r3[i])\n",
        "  r4_mod.append(r4[i])\n",
        "\n",
        "l2_norm3= math.sqrt((2*max(r4_mod)**2)+(2*max(r3_mod)**2))\n",
        "print(l2_norm3)"
      ],
      "execution_count": null,
      "outputs": [
        {
          "output_type": "stream",
          "name": "stdout",
          "text": [
            "20.68852489401234\n"
          ]
        }
      ]
    },
    {
      "cell_type": "markdown",
      "metadata": {
        "id": "u_vCpFUxgCzg"
      },
      "source": [
        "## Defining equations\n",
        "4. p=4*10^4 s"
      ]
    },
    {
      "cell_type": "code",
      "metadata": {
        "id": "1OWtZ7gQgCzh"
      },
      "source": [
        "\n",
        "def I3(t):\n",
        "  p = 4E+4 # period\n",
        "  c = 1E-9\n",
        "  a = 50\n",
        "  f = -a*math.cos(2*(math.pi)*t/p) + a + c\n",
        "  return f\n",
        "\n",
        "def func3(x,t):\n",
        "  r1=x[0]\n",
        "  r2=x[1]\n",
        "  r3=x[2]\n",
        "  r4=x[3]\n",
        "  #parameter initialization\n",
        "  ktl=6E-4\n",
        "  delm=2.5E-3\n",
        "  delr=4E-4\n",
        "  beta=0.4 #nM/s\n",
        "  Ptc=0.4 #nM/s\n",
        "  alpha=ktl*beta/delm #for a1,b1,c1,d1\n",
        "  gamma=ktl*Ptc/delm # For a2,b2,c2,d2\n",
        "\n",
        "  # defining equations\n",
        "  dr1dt= alpha*hposa(I3(t))*hnegr(r2) + gamma*hnegr(r3) - delr*r1\n",
        "  dr2dt= alpha*hposa(I3(t))*hnegr(r4) + gamma*hnegr(r3)*hnegr(r4) - delr*r2\n",
        "  dr3dt= alpha*hposa(I3(t))*hnegr(r4) + gamma*hnegr(r1) - delr*r3\n",
        "  dr4dt= alpha*hposa(I3(t))*hnegr(r2) + gamma*hnegr(r1)*hnegr(r2) - delr*r4\n",
        "\n",
        "  return [dr1dt,dr2dt,dr3dt,dr4dt]\n",
        "\n",
        "#print(func([50,50,0,0],0.001)) # Checking func\n"
      ],
      "execution_count": null,
      "outputs": []
    },
    {
      "cell_type": "markdown",
      "metadata": {
        "id": "XmC1cQKxgCzh"
      },
      "source": [
        "## Solving and plotting "
      ]
    },
    {
      "cell_type": "code",
      "metadata": {
        "id": "WVvUS6epgCzh"
      },
      "source": [
        "from scipy.integrate import odeint\n",
        "import numpy as np\n",
        "\n",
        "x0=[50.0,50.0,0.0,0.0]\n",
        "t1=np.linspace(0,350000,3500000)\n",
        "x = odeint(func3,x0,t1)\n",
        "\n",
        "r1=x[:,0]\n",
        "r2=x[:,1]\n",
        "r3=x[:,2]\n",
        "r4=x[:,3]\n",
        "\n",
        "\n"
      ],
      "execution_count": null,
      "outputs": []
    },
    {
      "cell_type": "code",
      "metadata": {
        "colab": {
          "base_uri": "https://localhost:8080/",
          "height": 280
        },
        "id": "-K9pBo1_gCzi",
        "outputId": "f034e8ca-03ed-4be9-f473-d5ad0a505465"
      },
      "source": [
        "\n",
        "plt.plot(t1,r1)\n",
        "plt.plot(t1,r2)\n",
        "plt.plot(t1,r3)\n",
        "plt.plot(t1,r4)\n",
        "plt.xlabel('Time(s)')\n",
        "plt.ylabel('Concentration(nM)')\n",
        "plt.legend(['R1','R2','R3','R4'])\n",
        "plt.show()"
      ],
      "execution_count": null,
      "outputs": [
        {
          "output_type": "display_data",
          "data": {
            "image/png": "[encoded data removed]",
            "text/plain": [
              "<Figure size 432x288 with 1 Axes>"
            ]
          },
          "metadata": {
            "needs_background": "light"
          }
        }
      ]
    },
    {
      "cell_type": "markdown",
      "metadata": {
        "id": "AXY2LnUVgCzi"
      },
      "source": [
        "## Finding period"
      ]
    },
    {
      "cell_type": "code",
      "metadata": {
        "colab": {
          "base_uri": "https://localhost:8080/"
        },
        "id": "on7cE82BgCzj",
        "outputId": "70281c83-c9d1-4180-e321-61dfdfeb426e"
      },
      "source": [
        "i1=np.where(r2==min(r2))\n",
        "i2=np.where(r1==min(r1))\n",
        "print(i1)\n",
        "print(i2)\n",
        "tmax=t1[i1]\n",
        "tmin=t1[i2]\n",
        "print(tmax)\n",
        "print(tmin)\n",
        "period_4=(tmax-tmin)/3\n",
        "print(period_4)"
      ],
      "execution_count": null,
      "outputs": [
        {
          "output_type": "stream",
          "name": "stdout",
          "text": [
            "(array([2740966]),)\n",
            "(array([409014]),)\n",
            "[274096.67831334]\n",
            "[40901.41168612]\n",
            "[77731.75554241]\n"
          ]
        }
      ]
    },
    {
      "cell_type": "markdown",
      "metadata": {
        "id": "Tw8USRlTvqse"
      },
      "source": [
        "## Finding L2 norm"
      ]
    },
    {
      "cell_type": "code",
      "metadata": {
        "colab": {
          "base_uri": "https://localhost:8080/"
        },
        "id": "ZiOtdtpPvqse",
        "outputId": "98a4e06a-8301-4361-f80c-7bb9afd149af"
      },
      "source": [
        "# modified r1,r2,r3 and r4\n",
        "r3_mod=[]\n",
        "r4_mod=[]\n",
        "r1_mod=[]\n",
        "r2_mod=[]\n",
        "for i in range(1000000,3000000):\n",
        "  r3_mod.append(r3[i])\n",
        "  r2_mod.append(r2[i])\n",
        "  r1_mod.append(r1[i])\n",
        "  r4_mod.append(r4[i])\n",
        "\n",
        "l2_norm4= math.sqrt((max(r4_mod)**2)+(max(r3_mod)**2)+max(r2_mod)**2+max(r1_mod)**2)\n",
        "print(l2_norm4)"
      ],
      "execution_count": null,
      "outputs": [
        {
          "output_type": "stream",
          "name": "stdout",
          "text": [
            "279.245061586578\n"
          ]
        }
      ]
    },
    {
      "cell_type": "code",
      "metadata": {
        "id": "hFukXWGLjWBn"
      },
      "source": [
        ""
      ],
      "execution_count": null,
      "outputs": []
    },
    {
      "cell_type": "markdown",
      "metadata": {
        "id": "YTaDNA4AjWW3"
      },
      "source": [
        "## Defining equations\n",
        "5. p=3.3*10^4 s \n"
      ]
    },
    {
      "cell_type": "code",
      "metadata": {
        "id": "m3ALR8cKjWW4"
      },
      "source": [
        "\n",
        "def I4(t):\n",
        "  p = 3.3E+4 # period\n",
        "  c = 1E-9\n",
        "  a = 50\n",
        "  f = -a*math.cos(2*(math.pi)*t/p) + a + c\n",
        "  return f\n",
        "\n",
        "def func4(x,t):\n",
        "  r1=x[0]\n",
        "  r2=x[1]\n",
        "  r3=x[2]\n",
        "  r4=x[3]\n",
        "  #parameter initialization\n",
        "  ktl=6E-4\n",
        "  delm=2.5E-3\n",
        "  delr=4E-4\n",
        "  beta=0.4 #nM/s\n",
        "  Ptc=0.4 #nM/s\n",
        "  alpha=ktl*beta/delm #for a1,b1,c1,d1\n",
        "  gamma=ktl*Ptc/delm # For a2,b2,c2,d2\n",
        "\n",
        "  # defining equations\n",
        "  dr1dt= alpha*hposa(I4(t))*hnegr(r2) + gamma*hnegr(r3) - delr*r1\n",
        "  dr2dt= alpha*hposa(I4(t))*hnegr(r4) + gamma*hnegr(r3)*hnegr(r4) - delr*r2\n",
        "  dr3dt= alpha*hposa(I4(t))*hnegr(r4) + gamma*hnegr(r1) - delr*r3\n",
        "  dr4dt= alpha*hposa(I4(t))*hnegr(r2) + gamma*hnegr(r1)*hnegr(r2) - delr*r4\n",
        "\n",
        "  return [dr1dt,dr2dt,dr3dt,dr4dt]\n",
        "\n",
        "#print(func([50,50,0,0],0.001)) # Checking func\n"
      ],
      "execution_count": null,
      "outputs": []
    },
    {
      "cell_type": "markdown",
      "metadata": {
        "id": "JEfeSoFUjWW5"
      },
      "source": [
        "## Solving and plotting "
      ]
    },
    {
      "cell_type": "code",
      "metadata": {
        "id": "WE4yMb-sjWW6"
      },
      "source": [
        "from scipy.integrate import odeint\n",
        "import numpy as np\n",
        "\n",
        "x0=[50.0,50.0,0.0,0.0]\n",
        "t1=np.linspace(0,700000,7000000)\n",
        "x = odeint(func4,x0,t1)\n",
        "\n",
        "r1=x[:,0]\n",
        "r2=x[:,1]\n",
        "r3=x[:,2]\n",
        "r4=x[:,3]\n",
        "\n",
        "\n"
      ],
      "execution_count": null,
      "outputs": []
    },
    {
      "cell_type": "code",
      "metadata": {
        "colab": {
          "base_uri": "https://localhost:8080/",
          "height": 279
        },
        "id": "fxgh6ScFjWW6",
        "outputId": "f4b97667-bfa7-451a-f841-4b1af36ef69a"
      },
      "source": [
        "\n",
        "plt.plot(t1,r1)\n",
        "plt.plot(t1,r2)\n",
        "plt.plot(t1,r3)\n",
        "plt.plot(t1,r4)\n",
        "plt.xlabel('Time(s)')\n",
        "plt.ylabel('Concentration(nM)')\n",
        "plt.legend(['R1','R2','R3','R4'])\n",
        "plt.show()"
      ],
      "execution_count": null,
      "outputs": [
        {
          "output_type": "display_data",
          "data": {
            "image/png": "[encoded data removed]",
            "text/plain": [
              "<Figure size 432x288 with 1 Axes>"
            ]
          },
          "metadata": {
            "needs_background": "light"
          }
        }
      ]
    },
    {
      "cell_type": "markdown",
      "metadata": {
        "id": "Q4De0W0HjWW7"
      },
      "source": [
        "## Finding period"
      ]
    },
    {
      "cell_type": "code",
      "metadata": {
        "colab": {
          "base_uri": "https://localhost:8080/"
        },
        "id": "mWZlDsU4jWW7",
        "outputId": "25026d22-9985-4d45-a4fd-0a332fc28cac"
      },
      "source": [
        "i1=np.where(r1==max(r1))\n",
        "i2=np.where(r1==min(r1))\n",
        "print(i1)\n",
        "print(i2)\n",
        "tmax=t1[i1]\n",
        "tmin=t1[i2]\n",
        "print(tmax)\n",
        "print(tmin)\n",
        "period_5=(tmax-tmin)/3.5\n",
        "print(period_5)"
      ],
      "execution_count": null,
      "outputs": [
        {
          "output_type": "stream",
          "name": "stdout",
          "text": [
            "(array([2662657]),)\n",
            "(array([338723]),)\n",
            "[266265.73803796]\n",
            "[33872.3048389]\n",
            "[66398.12377116]\n"
          ]
        }
      ]
    },
    {
      "cell_type": "markdown",
      "metadata": {
        "id": "r4S6Njc1xa6R"
      },
      "source": [
        "## Finding L2 norm"
      ]
    },
    {
      "cell_type": "code",
      "metadata": {
        "colab": {
          "base_uri": "https://localhost:8080/"
        },
        "id": "xQnYgRQjxa6j",
        "outputId": "93baac05-aff5-45b2-9694-186a4eb33161"
      },
      "source": [
        "# modified r1,r2,r3 and r4\n",
        "r3_mod=[]\n",
        "r4_mod=[]\n",
        "r1_mod=[]\n",
        "r2_mod=[]\n",
        "for i in range(2000000,3000000):\n",
        "  r3_mod.append(r3[i])\n",
        "  r2_mod.append(r2[i])\n",
        "  r1_mod.append(r1[i])\n",
        "  r4_mod.append(r4[i])\n",
        "\n",
        "l2_norm5= math.sqrt((max(r4_mod)**2)+(max(r3_mod)**2)+max(r2_mod)**2+max(r1_mod)**2)\n",
        "print(l2_norm5)"
      ],
      "execution_count": null,
      "outputs": [
        {
          "output_type": "stream",
          "name": "stdout",
          "text": [
            "114.11186821961694\n"
          ]
        }
      ]
    },
    {
      "cell_type": "code",
      "metadata": {
        "id": "rOxb0Vnjlk4D"
      },
      "source": [
        ""
      ],
      "execution_count": null,
      "outputs": []
    },
    {
      "cell_type": "markdown",
      "metadata": {
        "id": "LFEXgTLJllWA"
      },
      "source": [
        "## Defining equations\n",
        "6. p=3.05*10^4 s \n",
        "<b>Critical parameter</b>"
      ]
    },
    {
      "cell_type": "code",
      "metadata": {
        "id": "ymrJ5ZLSllWA"
      },
      "source": [
        "\n",
        "def I5(t):\n",
        "  p = 3.05E+4 # period\n",
        "  c = 1E-9\n",
        "  a = 50\n",
        "  f = -a*math.cos(2*(math.pi)*t/p) + a + c\n",
        "  return f\n",
        "\n",
        "def func5(x,t):\n",
        "  r1=x[0]\n",
        "  r2=x[1]\n",
        "  r3=x[2]\n",
        "  r4=x[3]\n",
        "  #parameter initialization\n",
        "  ktl=6E-4\n",
        "  delm=2.5E-3\n",
        "  delr=4E-4\n",
        "  beta=0.4 #nM/s\n",
        "  Ptc=0.4 #nM/s\n",
        "  alpha=ktl*beta/delm #for a1,b1,c1,d1\n",
        "  gamma=ktl*Ptc/delm # For a2,b2,c2,d2\n",
        "\n",
        "  # defining equations\n",
        "  dr1dt= alpha*hposa(I5(t))*hnegr(r2) + gamma*hnegr(r3) - delr*r1\n",
        "  dr2dt= alpha*hposa(I5(t))*hnegr(r4) + gamma*hnegr(r3)*hnegr(r4) - delr*r2\n",
        "  dr3dt= alpha*hposa(I5(t))*hnegr(r4) + gamma*hnegr(r1) - delr*r3\n",
        "  dr4dt= alpha*hposa(I5(t))*hnegr(r2) + gamma*hnegr(r1)*hnegr(r2) - delr*r4\n",
        "\n",
        "  return [dr1dt,dr2dt,dr3dt,dr4dt]\n",
        "\n",
        "#print(func([50,50,0,0],0.001)) # Checking func\n"
      ],
      "execution_count": null,
      "outputs": []
    },
    {
      "cell_type": "markdown",
      "metadata": {
        "id": "eimPg3etllWB"
      },
      "source": [
        "## Solving and plotting "
      ]
    },
    {
      "cell_type": "code",
      "metadata": {
        "id": "jj99jp1bllWC"
      },
      "source": [
        "from scipy.integrate import odeint\n",
        "import numpy as np\n",
        "\n",
        "x0=[50.0,50.0,0.0,0.0]\n",
        "t1=np.linspace(0,500000,5000000)\n",
        "x = odeint(func5,x0,t1)\n",
        "\n",
        "r1=x[:,0]\n",
        "r2=x[:,1]\n",
        "r3=x[:,2]\n",
        "r4=x[:,3]\n",
        "\n",
        "\n"
      ],
      "execution_count": null,
      "outputs": []
    },
    {
      "cell_type": "code",
      "metadata": {
        "colab": {
          "base_uri": "https://localhost:8080/",
          "height": 279
        },
        "id": "F5TNAv1lllWC",
        "outputId": "76ca0202-72f7-4c27-d7ee-9bf00170f206"
      },
      "source": [
        "\n",
        "plt.plot(t1,r1)\n",
        "plt.plot(t1,r2)\n",
        "plt.plot(t1,r3)\n",
        "plt.plot(t1,r4)\n",
        "plt.xlabel('Time(s)')\n",
        "plt.ylabel('Concentration(nM)')\n",
        "plt.legend(['R1','R2','R3','R4'])\n",
        "plt.show()"
      ],
      "execution_count": null,
      "outputs": [
        {
          "output_type": "display_data",
          "data": {
            "image/png": "[encoded data removed]",
            "text/plain": [
              "<Figure size 432x288 with 1 Axes>"
            ]
          },
          "metadata": {
            "needs_background": "light"
          }
        }
      ]
    },
    {
      "cell_type": "markdown",
      "metadata": {
        "id": "ApZleO0KllWD"
      },
      "source": [
        "## Finding period"
      ]
    },
    {
      "cell_type": "code",
      "metadata": {
        "colab": {
          "base_uri": "https://localhost:8080/"
        },
        "id": "NmHB3nSdllWD",
        "outputId": "3505013f-039a-4d10-8025-afac9a0cf7e0"
      },
      "source": [
        "i1=np.where(r2==min(r2))\n",
        "i2=np.where(r1==min(r1))\n",
        "print(i1)\n",
        "print(i2)\n",
        "tmax=t1[i1]\n",
        "tmin=t1[i2]\n",
        "print(tmax)\n",
        "print(tmin)\n",
        "period_6=(tmax-tmin)/2\n",
        "print(period_6)"
      ],
      "execution_count": null,
      "outputs": [
        {
          "output_type": "stream",
          "name": "stdout",
          "text": [
            "(array([1525367]),)\n",
            "(array([313661]),)\n",
            "[152536.73050735]\n",
            "[31366.10627322]\n",
            "[60585.31211706]\n"
          ]
        }
      ]
    },
    {
      "cell_type": "markdown",
      "metadata": {
        "id": "iCvTsPHSxqnw"
      },
      "source": [
        "## Finding L2 norm"
      ]
    },
    {
      "cell_type": "code",
      "metadata": {
        "colab": {
          "base_uri": "https://localhost:8080/"
        },
        "id": "q26xZQtpxqnx",
        "outputId": "bac741f8-c911-4a33-e649-d5d665dbce08"
      },
      "source": [
        "# modified r1,r2,r3 and r4\n",
        "r3_mod=[]\n",
        "r4_mod=[]\n",
        "r1_mod=[]\n",
        "r2_mod=[]\n",
        "for i in range(1000000,3500000):\n",
        "  r3_mod.append(r3[i])\n",
        "  r2_mod.append(r2[i])\n",
        "  r1_mod.append(r1[i])\n",
        "  r4_mod.append(r4[i])\n",
        "\n",
        "l2_norm6= math.sqrt((max(r4_mod)**2)+(max(r3_mod)**2)+max(r2_mod)**2+max(r1_mod)**2)\n",
        "print(l2_norm6)"
      ],
      "execution_count": null,
      "outputs": [
        {
          "output_type": "stream",
          "name": "stdout",
          "text": [
            "60.191320806596394\n"
          ]
        }
      ]
    },
    {
      "cell_type": "markdown",
      "metadata": {
        "id": "cZTr2ek6yiNO"
      },
      "source": [
        "# Figures 7 A & B"
      ]
    },
    {
      "cell_type": "code",
      "metadata": {
        "colab": {
          "base_uri": "https://localhost:8080/",
          "height": 557
        },
        "id": "COmoT3k5ytRJ",
        "outputId": "d5855156-6db0-4af9-e640-a5adac25b9bb"
      },
      "source": [
        "x=[2.8E4,2.4E4,3E4,4E4,3.3E4,3.05E4]\n",
        "x_mod= [2.4E4,2.8E4,3E4,3.05E4,3.3E4,4E4]\n",
        "x_mod1=[2.8E4,3E4,3.05E4,3.3E4,4E4]\n",
        "y_l2norm= [l2_norm1,l2_norm3,l2_norm6,l2_norm5,l2_norm4]\n",
        "y_period=[period_2,period_1,period_3,period_6,period_5,period_4]\n",
        "\n",
        "plot1=plt.figure(1)\n",
        "plt.axvline(27400, 30000, 80000)\n",
        "plt.plot(x_mod,y_period,marker='o')\n",
        "plt.xlabel('Input period(s)')\n",
        "plt.ylabel('Output period(s)')\n",
        "plt.title('Fig 7: Existence of a period doubling bifurcation')\n",
        "\n",
        "plot2=plt.figure(2)\n",
        "plt.plot(x_mod1,y_l2norm,marker='o',color='black')\n",
        "plt.xlabel('Input period(s)')\n",
        "plt.ylabel('L2 norm')\n",
        "\n",
        "plt.show()"
      ],
      "execution_count": null,
      "outputs": [
        {
          "output_type": "display_data",
          "data": {
            "image/png": "[encoded data removed]",
            "text/plain": [
              "<Figure size 432x288 with 1 Axes>"
            ]
          },
          "metadata": {
            "needs_background": "light"
          }
        },
        {
          "output_type": "display_data",
          "data": {
            "image/png": "[encoded data removed]",
            "text/plain": [
              "<Figure size 432x288 with 1 Axes>"
            ]
          },
          "metadata": {
            "needs_background": "light"
          }
        }
      ]
    },
    {
      "cell_type": "markdown",
      "metadata": {
        "id": "P1BXRnfm3CrB"
      },
      "source": [
        "\n",
        "\n",
        "> I found that the critical input period was <b>3.05X10^4s</b> as opposed to 2.75X10^4s cited in the paper.\n",
        "\n",
        "\n",
        "\n"
      ]
    }
  ]
}